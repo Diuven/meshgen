{
 "cells": [
  {
   "cell_type": "code",
   "execution_count": 1,
   "metadata": {
    "collapsed": true
   },
   "outputs": [],
   "source": [
    "import pytorch3d\n",
    "from datasets.shapenet_core import ShapeNetCore\n"
   ]
  },
  {
   "cell_type": "code",
   "execution_count": 28,
   "metadata": {
    "pycharm": {
     "name": "#%%\n"
    },
    "tags": []
   },
   "outputs": [
    {
     "output_type": "stream",
     "name": "stdout",
     "text": "ShapeNet.v2 len: 939\n{'synset_id': '02924116', 'model_id': '183c1ef7e783a05a8aa27cedfe9e8bf6', 'verts': tensor([[-0.1220,  0.0317,  0.4628],\n        [-0.1220,  0.0055,  0.4363],\n        [-0.1220,  0.0055,  0.4628],\n        ...,\n        [ 0.1106,  0.0927, -0.2397],\n        [-0.0014, -0.0465, -0.1441],\n        [ 0.0005, -0.0463, -0.1180]]), 'faces': tensor([[   0,    1,    2],\n        [   1,    0,    3],\n        [   2,    1,    0],\n        ...,\n        [4217, 4216, 4213],\n        [4215, 4217, 4216],\n        [4216, 4217, 4215]]), 'label': 'bus'}\n"
    }
   ],
   "source": [
    "dataset2 = ShapeNetCore('/DATA/ShapeNet/ShapeNetCore.v2/', synsets=['bus'], version=2)\n",
    "print(\"ShapeNet.v2 len: %d\" % len(dataset2))\n",
    "\n",
    "mesh = dataset2[0]\n",
    "print(mesh)\n"
   ]
  },
  {
   "cell_type": "code",
   "execution_count": 29,
   "metadata": {
    "tags": []
   },
   "outputs": [
    {
     "output_type": "stream",
     "name": "stdout",
     "text": "(4222, 3) (18066, 3)\n"
    }
   ],
   "source": [
    "from tensorboardX import SummaryWriter\n",
    "import numpy as np\n",
    "\n",
    "writer = SummaryWriter('logs/', comment='Testing')\n",
    "\n",
    "verts = np.array(mesh['verts'])\n",
    "faces = np.array(mesh['faces'])\n",
    "\n",
    "print(verts.shape, faces.shape)\n",
    "\n",
    "writer.add_mesh('chair_mesh', vertices=[verts], faces=[faces])\n",
    "\n"
   ]
  },
  {
   "cell_type": "code",
   "execution_count": null,
   "metadata": {},
   "outputs": [],
   "source": []
  }
 ],
 "metadata": {
  "kernelspec": {
   "display_name": "Python 3.6.9 64-bit ('env': venv)",
   "language": "python",
   "name": "python36964bitenvvenv9a724d51a7b04f16a0db0a4940b005e7"
  },
  "language_info": {
   "codemirror_mode": {
    "name": "ipython",
    "version": 3
   },
   "file_extension": ".py",
   "mimetype": "text/x-python",
   "name": "python",
   "nbconvert_exporter": "python",
   "pygments_lexer": "ipython3",
   "version": "3.6.9-final"
  }
 },
 "nbformat": 4,
 "nbformat_minor": 1
}