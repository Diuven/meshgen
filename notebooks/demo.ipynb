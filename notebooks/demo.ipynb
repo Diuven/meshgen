{
 "metadata": {
  "language_info": {
   "codemirror_mode": {
    "name": "ipython",
    "version": 3
   },
   "file_extension": ".py",
   "mimetype": "text/x-python",
   "name": "python",
   "nbconvert_exporter": "python",
   "pygments_lexer": "ipython3",
   "version": "3.6.9-final"
  },
  "orig_nbformat": 2,
  "kernelspec": {
   "name": "python36964bitenvvenv9a724d51a7b04f16a0db0a4940b005e7",
   "display_name": "Python 3.6.9 64-bit ('env': venv)"
  }
 },
 "nbformat": 4,
 "nbformat_minor": 2,
 "cells": [
  {
   "cell_type": "code",
   "execution_count": 1,
   "metadata": {},
   "outputs": [],
   "source": [
    "import meshgen_utils as utils"
   ]
  },
  {
   "cell_type": "code",
   "execution_count": 10,
   "metadata": {
    "tags": []
   },
   "outputs": [
    {
     "output_type": "stream",
     "name": "stdout",
     "text": "Visualizer hotkeys: \nR: toggle rotation\nN: toggle point normal vector view\nW: toggle mesh wireframe view\nB: toggle mesh back face view\nC: switch point color options\nM: toggle mesh visibility\nP: toggle point cloud visibility\nEnjoy!\n"
    }
   ],
   "source": [
    "mesh, pcd = utils.initial_data('sofa_pcd.ply', method='alpha', alpha=0.2, divide_mesh=0)\n",
    "# print(mesh, pcd)\n",
    "utils.show_overlay(mesh, pcd)\n"
   ]
  },
  {
   "cell_type": "code",
   "execution_count": 1,
   "metadata": {
    "tags": []
   },
   "outputs": [
    {
     "output_type": "stream",
     "name": "stdout",
     "text": "\u001b[1;33m[Open3D WARNING] Read OBJ failed: Material file [ data/model.mtl ] not found.\nFailed to load material file(s). Use default material.\n\u001b[0;m\n"
    }
   ],
   "source": [
    "from meshgen_utils import fileio as io\n",
    "from meshgen_utils import visualize as vis\n",
    "from meshgen_utils import utils\n",
    "import open3d as o3d\n",
    "\n",
    "o3d_mesh = io.load_o3d_mesh('data/sofa_mesh.obj')\n",
    "o3d_pcd = io.load_o3d_pcd('data/sofa_pcd.ply')\n",
    "tri_pcd = io.load_o3d_pcd('data/triceratops.ply')"
   ]
  },
  {
   "cell_type": "code",
   "execution_count": 2,
   "metadata": {
    "tags": []
   },
   "outputs": [],
   "source": [
    "utils.o3d_visualize([o3d_mesh, o3d_pcd])"
   ]
  },
  {
   "cell_type": "code",
   "execution_count": 4,
   "metadata": {
    "tags": []
   },
   "outputs": [],
   "source": [
    "# print(o3d_pcd.has_normals())\n",
    "o3d_pcd.estimate_normals(fast_normal_computation=False)\n",
    "o3d.visualization.draw_geometries([o3d_pcd], point_show_normal=True)\n",
    "# vis.o3d_visualize(o3d_pcd)"
   ]
  },
  {
   "cell_type": "code",
   "execution_count": 5,
   "metadata": {
    "tags": []
   },
   "outputs": [
    {
     "output_type": "stream",
     "name": "stdout",
     "text": "geometry::TriangleMesh with 139 points and 274 triangles.\n"
    }
   ],
   "source": [
    "hull, _ = o3d_pcd.compute_convex_hull()\n",
    "hull.orient_triangles()\n",
    "vis.o3d_visualize(hull)\n",
    "print(hull)"
   ]
  },
  {
   "cell_type": "code",
   "execution_count": 15,
   "metadata": {
    "tags": []
   },
   "outputs": [
    {
     "output_type": "stream",
     "name": "stdout",
     "text": "geometry::TriangleMesh with 357 points and 710 triangles.\n"
    }
   ],
   "source": [
    "tri = io.load_o3d_pcd('data/triceratops.ply')\n",
    "tri.estimate_normals()\n",
    "trihull, _ = tri.compute_convex_hull()\n",
    "print(trihull)\n",
    "o3d.visualization.draw_geometries([tri, trihull], point_show_normal=True)\n"
   ]
  },
  {
   "cell_type": "code",
   "execution_count": null,
   "metadata": {},
   "outputs": [],
   "source": []
  },
  {
   "cell_type": "code",
   "execution_count": null,
   "metadata": {},
   "outputs": [],
   "source": []
  },
  {
   "cell_type": "code",
   "execution_count": null,
   "metadata": {},
   "outputs": [],
   "source": []
  }
 ]
}