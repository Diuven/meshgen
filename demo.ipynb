{
 "cells": [
  {
   "cell_type": "code",
   "execution_count": 1,
   "metadata": {},
   "outputs": [],
   "source": [
    "import meshgen_utils as utils"
   ]
  },
  {
   "cell_type": "code",
   "execution_count": 2,
   "metadata": {
    "scrolled": true,
    "tags": []
   },
   "outputs": [
    {
     "name": "stdout",
     "output_type": "stream",
     "text": [
      "Visualizer hotkeys: \n",
      "R: toggle rotation\n",
      "V: toggle verbose display (point normal vector, mesh wireframe)\n",
      "B: toggle mesh back face view\n",
      "M: toggle mesh visibility\n",
      "P: toggle point cloud visibility\n",
      "Enjoy!\n"
     ]
    }
   ],
   "source": [
    "mesh, pcd = utils.initial_data('data/bowl_pcd.ply', method='convex')\n",
    "utils.show_overlay(mesh, pcd)\n"
   ]
  },
  {
   "cell_type": "code",
   "execution_count": 1,
   "metadata": {
    "tags": []
   },
   "outputs": [
    {
     "name": "stdout",
     "output_type": "stream",
     "text": [
      "\u001b[1;33m[Open3D WARNING] Read OBJ failed: Material file [ data/model.mtl ] not found.\n",
      "Failed to load material file(s). Use default material.\n",
      "\u001b[0;m\n"
     ]
    }
   ],
   "source": [
    "from meshgen_utils import fileio as io\n",
    "from meshgen_utils import visualize as vis\n",
    "from meshgen_utils import utils\n",
    "import open3d as o3d\n",
    "\n",
    "o3d_mesh = io.load_o3d_mesh('data/sofa_mesh.obj')\n",
    "o3d_pcd = io.load_o3d_pcd('data/sofa_pcd.ply')\n",
    "tri_pcd = io.load_o3d_pcd('data/triceratops.ply')"
   ]
  },
  {
   "cell_type": "code",
   "execution_count": 2,
   "metadata": {
    "tags": []
   },
   "outputs": [],
   "source": [
    "utils.o3d_visualize([o3d_mesh, o3d_pcd])"
   ]
  },
  {
   "cell_type": "code",
   "execution_count": 4,
   "metadata": {
    "tags": []
   },
   "outputs": [],
   "source": [
    "# print(o3d_pcd.has_normals())\n",
    "o3d_pcd.estimate_normals(fast_normal_computation=False)\n",
    "o3d.visualization.draw_geometries([o3d_pcd], point_show_normal=True)\n",
    "# vis.o3d_visualize(o3d_pcd)"
   ]
  },
  {
   "cell_type": "code",
   "execution_count": 5,
   "metadata": {
    "tags": []
   },
   "outputs": [
    {
     "name": "stdout",
     "output_type": "stream",
     "text": [
      "geometry::TriangleMesh with 139 points and 274 triangles.\n"
     ]
    }
   ],
   "source": [
    "hull, _ = o3d_pcd.compute_convex_hull()\n",
    "hull.orient_triangles()\n",
    "vis.o3d_visualize(hull)\n",
    "print(hull)"
   ]
  },
  {
   "cell_type": "code",
   "execution_count": 15,
   "metadata": {
    "tags": []
   },
   "outputs": [
    {
     "name": "stdout",
     "output_type": "stream",
     "text": [
      "geometry::TriangleMesh with 357 points and 710 triangles.\n"
     ]
    }
   ],
   "source": [
    "tri = io.load_o3d_pcd('data/triceratops.ply')\n",
    "tri.estimate_normals()\n",
    "trihull, _ = tri.compute_convex_hull()\n",
    "print(trihull)\n",
    "o3d.visualization.draw_geometries([tri, trihull], point_show_normal=True)\n"
   ]
  },
  {
   "cell_type": "code",
   "execution_count": null,
   "metadata": {},
   "outputs": [],
   "source": []
  },
  {
   "cell_type": "code",
   "execution_count": null,
   "metadata": {},
   "outputs": [],
   "source": []
  },
  {
   "cell_type": "code",
   "execution_count": null,
   "metadata": {},
   "outputs": [],
   "source": []
  }
 ],
 "metadata": {
  "kernelspec": {
   "display_name": "Python 3.6.9 64-bit ('env': venv)",
   "language": "python",
   "name": "python36964bitenvvenv9a724d51a7b04f16a0db0a4940b005e7"
  },
  "language_info": {
   "codemirror_mode": {
    "name": "ipython",
    "version": 3
   },
   "file_extension": ".py",
   "mimetype": "text/x-python",
   "name": "python",
   "nbconvert_exporter": "python",
   "pygments_lexer": "ipython3",
   "version": "3.6.9"
  }
 },
 "nbformat": 4,
 "nbformat_minor": 2
}
